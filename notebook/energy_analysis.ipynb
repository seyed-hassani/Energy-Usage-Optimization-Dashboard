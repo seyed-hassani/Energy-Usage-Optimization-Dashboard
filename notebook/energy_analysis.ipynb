import matplotlib.pyplot as plt
import seaborn as sns

# Convert timestamp to datetime (if needed)
data['timestamp'] = pd.to_datetime(data['timestamp'])

# Calculate average daily consumption
daily_avg = data.groupby(data['timestamp'].dt.date)['energy_kWh'].sum().reset_index(name='total_kWh')

# Calculate average usage by hour
hourly_avg = data.groupby('hour')['energy_kWh'].mean().reset_index()

# Plot daily energy usage
plt.figure(figsize=(10, 5))
sns.barplot(x='timestamp', y='total_kWh', data=daily_avg, palette='viridis')
plt.xticks(rotation=45)
plt.title('Total Daily Energy Consumption (kWh)')
plt.xlabel('Date')
plt.ylabel('Energy (kWh)')
plt.tight_layout()
plt.show()

# Plot average energy usage by hour
plt.figure(figsize=(10, 5))
sns.lineplot(x='hour', y='energy_kWh', data=hourly_avg, marker='o')
plt.title('Average Hourly Energy Consumption')
plt.xlabel('Hour of Day')
plt.ylabel('Average Energy (kWh)')
plt.grid(True)
plt.tight_layout()
plt.show()
